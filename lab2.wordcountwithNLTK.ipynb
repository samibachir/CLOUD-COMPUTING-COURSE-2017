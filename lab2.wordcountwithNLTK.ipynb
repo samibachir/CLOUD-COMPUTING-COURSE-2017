{
 "cells": [
  {
   "cell_type": "code",
   "execution_count": 6,
   "metadata": {
    "collapsed": false
   },
   "outputs": [
    {
     "name": "stdout",
     "output_type": "stream",
     "text": [
      "[nltk_data] Downloading package punkt to C:\\Users\\Bohémond\n",
      "[nltk_data]     Flamand\\AppData\\Roaming\\nltk_data...\n",
      "[nltk_data]   Package punkt is already up-to-date!\n"
     ]
    },
    {
     "data": {
      "text/plain": [
       "True"
      ]
     },
     "execution_count": 6,
     "metadata": {},
     "output_type": "execute_result"
    }
   ],
   "source": [
    "nltk.download('punkt')"
   ]
  },
  {
   "cell_type": "code",
   "execution_count": 22,
   "metadata": {
    "collapsed": false
   },
   "outputs": [
    {
     "name": "stdout",
     "output_type": "stream",
     "text": [
      "[('the', 1445), ('of', 587), ('to', 532), ('in', 509), ('a', 496), ('and', 347), ('tf', 304), ('is', 289), ('we', 283), ('that', 276)]\n"
     ]
    }
   ],
   "source": [
    "#import nltk\n",
    "#nltk.download('punkt') \n",
    "import string\n",
    "\n",
    "#from collections import Counter\n",
    "\n",
    "def get_tokens():\n",
    "   with open('D:\\FIB\\second semester\\CLC\\FirstContactWithTensorFlow.txt', 'r') as tf:\n",
    "    text = tf.read()\n",
    "    lowers = text.lower()\n",
    "    trantab = \"\".maketrans(string.punctuation, \"                                \")\n",
    "    no_punctuation = lowers.translate(trantab)\n",
    "    tokens = nltk.word_tokenize(no_punctuation)\n",
    "    return tokens\n",
    "\n",
    "tokens = get_tokens()\n",
    "count = Counter(tokens)\n",
    "print (count.most_common(10))"
   ]
  },
  {
   "cell_type": "code",
   "execution_count": 23,
   "metadata": {
    "collapsed": false
   },
   "outputs": [],
   "source": [
    "#stop words = most common words used in a language. They are genrally filtered out \n",
    "#when processing for natural language programming"
   ]
  },
  {
   "cell_type": "code",
   "execution_count": 28,
   "metadata": {
    "collapsed": false
   },
   "outputs": [
    {
     "name": "stdout",
     "output_type": "stream",
     "text": [
      "[nltk_data] Downloading package punkt to C:\\nltk_data...\n",
      "[nltk_data]   Package punkt is already up-to-date!\n"
     ]
    }
   ],
   "source": [
    "from nltk.corpus import stopwords\n",
    "\n",
    "import nltk\n",
    "nltk.download('punkt') \n",
    "import string\n",
    "\n",
    "from collections import Counter\n",
    "\n",
    "def get_tokens():\n",
    "   with open('D:\\FIB\\second semester\\CLC\\FirstContactWithTensorFlow.txt', 'r') as tf:\n",
    "    text = tf.read()\n",
    "    lowers = text.lower()\n",
    "    trantab = \"\".maketrans(string.punctuation, \"                                \")\n",
    "    no_punctuation = lowers.translate(trantab)\n",
    "    tokens = nltk.word_tokenize(no_punctuation)\n",
    "    return tokens\n",
    "\n",
    "tokens = get_tokens()\n",
    "filtered = [w for w in tokens if not w in stopwords.words('english')]\n",
    "count = Counter(filtered)\n",
    "print(count.most_common(10))"
   ]
  },
  {
   "cell_type": "code",
   "execution_count": 30,
   "metadata": {
    "collapsed": false
   },
   "outputs": [
    {
     "name": "stdout",
     "output_type": "stream",
     "text": [
      "[('tf', 304), ('0', 241), ('tensorflow', 240), ('data', 170), ('1', 162), ('tensor', 101), ('b', 94), ('code', 90), ('2', 86), ('learning', 86)]\n"
     ]
    }
   ],
   "source": []
  },
  {
   "cell_type": "code",
   "execution_count": null,
   "metadata": {
    "collapsed": true
   },
   "outputs": [],
   "source": []
  }
 ],
 "metadata": {
  "kernelspec": {
   "display_name": "Python 3",
   "language": "python",
   "name": "python3"
  },
  "language_info": {
   "codemirror_mode": {
    "name": "ipython",
    "version": 3
   },
   "file_extension": ".py",
   "mimetype": "text/x-python",
   "name": "python",
   "nbconvert_exporter": "python",
   "pygments_lexer": "ipython3",
   "version": "3.4.4"
  }
 },
 "nbformat": 4,
 "nbformat_minor": 1
}
