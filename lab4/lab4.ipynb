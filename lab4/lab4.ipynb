{
 "cells": [
  {
   "cell_type": "code",
   "execution_count": 3,
   "metadata": {
    "collapsed": false
   },
   "outputs": [],
   "source": [
    "import json\n",
    "\n",
    "fname = 'D:/Lab3.CaseStudy.json'\n",
    "with open(fname, 'r') as f:\n",
    "    geo_data = {\n",
    "        \"type\": \"FeatureCollection\",\n",
    "        \"features\": []\n",
    "    }\n",
    "    for line in f:\n",
    "        tweet = json.loads(line)\n",
    "        if tweet['coordinates']:\n",
    "            geo_json_feature = {\n",
    "                \"type\": \"Feature\",\n",
    "                \"geometry\": tweet['coordinates'],\n",
    "                \"properties\": {\n",
    "                    \"text\": tweet['text'],\n",
    "                    \"created_at\": tweet['created_at']\n",
    "                }\n",
    "            }\n",
    "            geo_data['features'].append(geo_json_feature)\n",
    " \n",
    "with open('geo_data.json', 'w') as fout:\n",
    "    fout.write(json.dumps(geo_data, indent=4))"
   ]
  },
  {
   "cell_type": "code",
   "execution_count": null,
   "metadata": {
    "collapsed": true
   },
   "outputs": [],
   "source": []
  }
 ],
 "metadata": {
  "kernelspec": {
   "display_name": "Python 3",
   "language": "python",
   "name": "python3"
  },
  "language_info": {
   "codemirror_mode": {
    "name": "ipython",
    "version": 3
   },
   "file_extension": ".py",
   "mimetype": "text/x-python",
   "name": "python",
   "nbconvert_exporter": "python",
   "pygments_lexer": "ipython3",
   "version": "3.4.4"
  }
 },
 "nbformat": 4,
 "nbformat_minor": 1
}
